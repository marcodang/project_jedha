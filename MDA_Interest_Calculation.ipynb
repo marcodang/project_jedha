{
 "cells": [
  {
   "cell_type": "markdown",
   "metadata": {
    "colab_type": "text",
    "id": "1NCGks54kp_n"
   },
   "source": [
    "# How much do you get for your savings ?"
   ]
  },
  {
   "cell_type": "markdown",
   "metadata": {
    "colab_type": "text",
    "id": "75Xe4f7vksGZ"
   },
   "source": [
    "It is said that if Christopher Columbus had set aside €1 that he had left at 2% interest per year, today his heirs would no longer need to work to live their lives. Let's try to calculate the same thing for our savings. "
   ]
  },
  {
   "cell_type": "markdown",
   "metadata": {
    "colab_type": "text",
    "id": "v4ugjwIakv2c"
   },
   "source": [
    "1. So let's create a function that will allow us to know how much money a user will have in total after a certain number of years.\n",
    "\n",
    "2. The user should be able to call the function which will then ask for :\n",
    "\n",
    "    1. The total amount he wishes to place\n",
    "    2. The number of years he wants to invest his money for\n",
    "    3. The rate of interest to which he is entitled\n",
    "    \n",
    "3. Pay attention to the errors that the user may enter.\n",
    "\n",
    "    4. If he enters a string of characters rather than a number, an error should be displayed.\n",
    "    5. If the user enters negative numbers, an error should also be output.\n",
    "    6. Finally, it is very likely that the user will write the interest rate as a percentage (e.g. 10%). Lift an error if this is the case to prevent him from putting a decimal number.\n",
    "    \n",
    "4. Finally, the program should only show one digit with a maximum of two digits after the decimal point.\n"
   ]
  },
  {
   "cell_type": "code",
   "execution_count": 37,
   "metadata": {
    "colab": {
     "base_uri": "https://localhost:8080/",
     "height": 173
    },
    "colab_type": "code",
    "id": "ovkcocqXkp2k",
    "outputId": "c6b46d9b-3503-4490-f19a-4a7e35194eea"
   },
   "outputs": [],
   "source": [
    "def savings():\n",
    "    terminate=False\n",
    "    while terminate==False:\n",
    "    \n",
    "        try: \n",
    "            amount_placed=float(input(\"What is the the initial amount you want to place in €?\\n\"))\n",
    "        \n",
    "            if amount_placed<=0:\n",
    "                raise ValueError(\"Please, insert a positive number\")\n",
    "        \n",
    "            Nb_years=float(input(\"Number of years of the placement?\\n\"))\n",
    "            if Nb_years <= 0:\n",
    "                raise ValueError(\"Please insert a positive number\")\n",
    "        \n",
    "            interest_rate=input(\"Please indicate the interest rate?\\n\")\n",
    "            if \"%\" in interest_rate:\n",
    "                raise ValueError(\"Please insert only a positive numbers without symbols e.i %\")\n",
    "        \n",
    "            else:\n",
    "                interest_rate=float(interest_rate)\n",
    "                if interest_rate <= 0:\n",
    "                    raise ValueError(\"Plese, insert a positive number\")\n",
    "        \n",
    "            total_savings=(amount_placed)*(interest_rate)*(Nb_years)\n",
    "            terminate==True\n",
    "    \n",
    "        except ValueError as error:\n",
    "            terminate==False\n",
    "            print(\"This value in not correct\\n\")\n",
    "            print (error)\n",
    "        else:\n",
    "            print(\"The tota saving, after {} years with an initia investment of {:.2f}€ is {:.2f}€\".format(Nb_years,amount_placed,total_savings))\n",
    "            break"
   ]
  },
  {
   "cell_type": "code",
   "execution_count": 38,
   "metadata": {},
   "outputs": [
    {
     "name": "stdin",
     "output_type": "stream",
     "text": [
      "What is the the initial amount you want to place in €?\n",
      " 40000\n",
      "Number of years of the placement?\n",
      " 2\n",
      "Please indicate the interest rate?\n",
      " 2\n"
     ]
    },
    {
     "name": "stdout",
     "output_type": "stream",
     "text": [
      "The tota saving, after 2.0 years with an initia ilvestmentof 40000.00€ is 160000.00€\n"
     ]
    }
   ],
   "source": [
    "savings()"
   ]
  },
  {
   "cell_type": "code",
   "execution_count": null,
   "metadata": {},
   "outputs": [],
   "source": []
  },
  {
   "cell_type": "code",
   "execution_count": null,
   "metadata": {},
   "outputs": [],
   "source": []
  }
 ],
 "metadata": {
  "colab": {
   "name": "Fondamentaux Python - Mini Projets S1-2B.ipynb",
   "provenance": [],
   "version": "0.3.2"
  },
  "kernelspec": {
   "display_name": "Python 3",
   "language": "python",
   "name": "python3"
  },
  "language_info": {
   "codemirror_mode": {
    "name": "ipython",
    "version": 3
   },
   "file_extension": ".py",
   "mimetype": "text/x-python",
   "name": "python",
   "nbconvert_exporter": "python",
   "pygments_lexer": "ipython3",
   "version": "3.8.5"
  }
 },
 "nbformat": 4,
 "nbformat_minor": 4
}
